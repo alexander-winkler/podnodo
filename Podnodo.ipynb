{
 "cells": [
  {
   "cell_type": "markdown",
   "id": "4e410245",
   "metadata": {},
   "source": [
    "# Podnodo – ein hemdsärmeliger Workflow zur Podcastarchivierung auf Zenodo\n",
    "\n",
    "Voraussetzung ist ein irgendwie abgeschlossenes Produkt (z.B. Staffel), da das Archivpaket im Nachhinein nicht mehr geändert werden kann.\n",
    "\n",
    "Es muss zunächst ein DOI auf Zenodo registriert werden."
   ]
  },
  {
   "cell_type": "code",
   "execution_count": null,
   "id": "4c69b36f",
   "metadata": {},
   "outputs": [],
   "source": [
    "import requests\n",
    "from lxml import etree"
   ]
  },
  {
   "cell_type": "code",
   "execution_count": null,
   "id": "54442abf",
   "metadata": {},
   "outputs": [],
   "source": [
    "zenodo_doi =  # verpflichtende Angabe\n",
    "mp3_folder = \"folder\" # optional, wenn mp3s in kein eigenes Verzeichnis sollen, einfach String leer lassen (\"\")\n",
    "feed = # URL des Feeds\n",
    "\n",
    "import os\n",
    "if not os.path.isdir(mp3_folder):\n",
    "    os.makedirs(mp3_folder)"
   ]
  },
  {
   "cell_type": "code",
   "execution_count": null,
   "id": "4bb7bffd",
   "metadata": {},
   "outputs": [],
   "source": [
    "res = requests.get(feed)\n",
    "tree = etree.fromstring(res.content)\n",
    "\n",
    "for mp3 in tree.findall('.//enclosure'):\n",
    "    print(mp3.attrib['url'])\n",
    "\n",
    "    mp3_file = requests.get(mp3.attrib['url'])\n",
    "    mp3_filename = mp3.attrib['url'].rpartition('/')[-1]\n",
    "    \n",
    "    if len(mp3_folder) > 0:\n",
    "        with open(mp3_folder + \"/\" + mp3_filename, 'wb') as f:\n",
    "            f.write(mp3_file.content)\n",
    "        mp3.attrib['url'] = f\"https://zenodo.org/records/{zenodo_doi}/files/{mp3_folder}/{mp3_filename}\"\n",
    "    else:\n",
    "        with open(mp3_filename, 'wb') as f:\n",
    "            f.write(mp3_file.content)\n",
    "        mp3.attrib['url'] = f\"https://zenodo.org/records/{zenodo_doi}/files/{mp3_filename}\"\n",
    "    \n",
    "    #write modified feed\n",
    "    tree = tree.getroottree()\n",
    "    tree.write(\"feed.rss\")"
   ]
  }
 ],
 "metadata": {
  "kernelspec": {
   "display_name": "Python 3 (ipykernel)",
   "language": "python",
   "name": "python3"
  },
  "language_info": {
   "codemirror_mode": {
    "name": "ipython",
    "version": 3
   },
   "file_extension": ".py",
   "mimetype": "text/x-python",
   "name": "python",
   "nbconvert_exporter": "python",
   "pygments_lexer": "ipython3",
   "version": "3.11.7"
  }
 },
 "nbformat": 4,
 "nbformat_minor": 5
}
